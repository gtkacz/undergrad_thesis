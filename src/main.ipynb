{
 "cells": [
  {
   "cell_type": "code",
   "execution_count": 1,
   "metadata": {},
   "outputs": [],
   "source": [
    "import random\n",
    "import tomllib\n",
    "\n",
    "import matplotlib.pyplot as plt\n",
    "from numba import jit\n",
    "\n",
    "from util import *"
   ]
  },
  {
   "cell_type": "code",
   "execution_count": 2,
   "metadata": {},
   "outputs": [
    {
     "data": {
      "text/plain": [
       "{'TRAINING': {'healthy_skin_path': './dataset/NORMAL SKIN/',\n",
       "  'diseased_skin_path': './dataset/PSORIASIS/',\n",
       "  'training_dataset_ratio': 0.8}}"
      ]
     },
     "execution_count": 2,
     "metadata": {},
     "output_type": "execute_result"
    }
   ],
   "source": [
    "with open('parameters.toml', 'r') as f:\n",
    "    parameters = tomllib.loads(f.read())\n",
    "    \n",
    "parameters"
   ]
  },
  {
   "cell_type": "code",
   "execution_count": 3,
   "metadata": {},
   "outputs": [],
   "source": [
    "# base_dataset = {'training': list(), 'validation': list(), 'testing': list()}\n",
    "\n",
    "# raw_healthy_images = read_images(parameters['TRAINING']['healthy_skin_path'])\n",
    "# raw_diseased_images = read_images(parameters['TRAINING']['diseased_skin_path'])\n",
    "\n",
    "# total_raw_images = raw_healthy_images + raw_diseased_images\n",
    "\n",
    "# random.shuffle(total_raw_images)\n",
    "\n",
    "# for i, image in enumerate(total_raw_images):\n",
    "#     training_ratio = parameters['TRAINING']['training_dataset_ratio']\n",
    "\n",
    "#     if i < len(total_raw_images) * training_ratio:\n",
    "#         base_dataset['training'].append(image)\n",
    "#     elif i < len(total_raw_images) * round((1 + training_ratio) / 2, 1):\n",
    "#         base_dataset['validation'].append(image)\n",
    "#     else:\n",
    "#         base_dataset['testing'].append(image)\n",
    "        \n",
    "# print(f\"Total dataset: {len(total_raw_images)} items.\\n\")\n",
    "# print(f\"Training: {len(base_dataset['training'])} items.\")\n",
    "# print(f\"Validation: {len(base_dataset['validation'])} items.\")\n",
    "# print(f\"Testing: {len(base_dataset['testing'])} items.\")"
   ]
  },
  {
   "cell_type": "code",
   "execution_count": null,
   "metadata": {},
   "outputs": [],
   "source": []
  }
 ],
 "metadata": {
  "kernelspec": {
   "display_name": "Python 3",
   "language": "python",
   "name": "python3"
  },
  "language_info": {
   "codemirror_mode": {
    "name": "ipython",
    "version": 3
   },
   "file_extension": ".py",
   "mimetype": "text/x-python",
   "name": "python",
   "nbconvert_exporter": "python",
   "pygments_lexer": "ipython3",
   "version": "3.11.6"
  }
 },
 "nbformat": 4,
 "nbformat_minor": 2
}
