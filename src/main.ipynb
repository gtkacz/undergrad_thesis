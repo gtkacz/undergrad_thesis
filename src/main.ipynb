{
 "cells": [
  {
   "cell_type": "markdown",
   "metadata": {},
   "source": [
    "<center>\n",
    "    <p align=\"center\">\n",
    "        <img src=\"https://logodownload.org/wp-content/uploads/2017/09/mackenzie-logo-3.png\" style=\"height: 7ch;\"><br>\n",
    "        <h1 align=\"center\">Computer Systems Undergradute Thesis</h1>\n",
    "        <h2 align=\"center\">Quantitative Analysis of the Impact of Image Pre-Processing on the Accuracy of Computer Vision Models Trained to Identify Dermatological Skin Diseases</a>\n",
    "        <h4 align=\"center\">Gabriel Mitelman Tkacz</a>\n",
    "        </h4>\n",
    "    </p>\n",
    "</center>\n",
    "\n",
    "<hr>"
   ]
  },
  {
   "cell_type": "code",
   "execution_count": 1,
   "metadata": {},
   "outputs": [],
   "source": [
    "import re\n",
    "import tomllib\n",
    "from functools import partial\n",
    "from itertools import permutations\n",
    "from pprint import pprint\n",
    "\n",
    "import matplotlib.pyplot as plt\n",
    "import pandas as pd\n",
    "import seaborn as sns\n",
    "import torch\n",
    "from pynimbar import loading_animation\n",
    "\n",
    "from util import (ColorSpaceTransform, DenoiseTransform,\n",
    "                  EqualizationTransform, NormalizeTransform, evaluate_model,\n",
    "                  get_model_data)"
   ]
  },
  {
   "cell_type": "code",
   "execution_count": 2,
   "metadata": {},
   "outputs": [
    {
     "name": "stdout",
     "output_type": "stream",
     "text": [
      "{'PREPROCESS': {'colorspace': {'source_space': 'RGB', 'target_space': 'HSV'},\n",
      "                'denoise': {'search_window_size': 19,\n",
      "                            'template_window_size': 5},\n",
      "                'normalize': {'mean': 0.4, 'std': 0.2}},\n",
      " 'TRAINING': {'batch_size': 128,\n",
      "              'diseased_skin_path': './dataset/diseased/',\n",
      "              'healthy_skin_path': './dataset/healthy/',\n",
      "              'learning_rate': 0.0001,\n",
      "              'num_epochs': 3,\n",
      "              'num_workers': 12,\n",
      "              'pin_memory': True,\n",
      "              'precision_threshold': 0.8,\n",
      "              'resize_dim': 128,\n",
      "              'shuffle': True,\n",
      "              'training_dataset_ratio': 0.8}}\n"
     ]
    }
   ],
   "source": [
    "with open(\"parameters.toml\", \"r\") as f:\n",
    "    parameters = tomllib.loads(f.read())\n",
    "\n",
    "loading_handler = partial(\n",
    "    loading_animation, break_on_error=True, verbose_errors=True, time_it_live=True\n",
    ")\n",
    "\n",
    "alpha = chr(0x03B1)\n",
    "\n",
    "pprint(parameters)"
   ]
  },
  {
   "cell_type": "code",
   "execution_count": 3,
   "metadata": {},
   "outputs": [
    {
     "data": {
      "text/plain": [
       "{'ColorSpaceTransform': 'CS',\n",
       " 'DenoiseTransform': 'D',\n",
       " 'EqualizationTransform': 'E',\n",
       " 'NormalizeTransform': 'N'}"
      ]
     },
     "execution_count": 3,
     "metadata": {},
     "output_type": "execute_result"
    }
   ],
   "source": [
    "preprocesses = (\n",
    "    ColorSpaceTransform(**parameters[\"PREPROCESS\"][\"colorspace\"]),\n",
    "    DenoiseTransform(**parameters[\"PREPROCESS\"][\"denoise\"]),\n",
    "    EqualizationTransform(),\n",
    "    NormalizeTransform(**parameters[\"PREPROCESS\"][\"normalize\"]),\n",
    ")\n",
    "\n",
    "preprocess_combinations = {\n",
    "    i: permutations(preprocesses, i) for i in range(2, len(preprocesses) + 1)\n",
    "}\n",
    "\n",
    "preprocess_labels = {s.__class__.__name__: re.sub('[^A-Z]', '', s.__class__.__name__)[:-1] for s in preprocesses}\n",
    "preprocess_labels"
   ]
  },
  {
   "cell_type": "code",
   "execution_count": 4,
   "metadata": {},
   "outputs": [
    {
     "data": {
      "text/plain": [
       "device(type='cuda')"
      ]
     },
     "execution_count": 4,
     "metadata": {},
     "output_type": "execute_result"
    }
   ],
   "source": [
    "device = torch.device(\"cuda\" if torch.cuda.is_available() else \"cpu\")\n",
    "device"
   ]
  },
  {
   "cell_type": "code",
   "execution_count": 5,
   "metadata": {},
   "outputs": [
    {
     "name": "stdout",
     "output_type": "stream",
     "text": [
      "Training ratio: 80.0%\n",
      "Testing ratio: 10.0%\n",
      "Validation ratio: 10.0%\n",
      "\n",
      "Seed: 47\n"
     ]
    }
   ],
   "source": [
    "training_ratio = parameters[\"TRAINING\"][\"training_dataset_ratio\"]\n",
    "testing_ratio = validation_ratio = round(1 - training_ratio, 1) / 2\n",
    "\n",
    "print(f\"Training ratio: {training_ratio*100}%\")\n",
    "print(f\"Testing ratio: {testing_ratio*100}%\")\n",
    "print(f\"Validation ratio: {validation_ratio*100}%\")\n",
    "\n",
    "seed = 47\n",
    "print(f\"\\nSeed: {seed}\")"
   ]
  },
  {
   "cell_type": "markdown",
   "metadata": {},
   "source": [
    "## Class 0 Model: Images with no pre-processing"
   ]
  },
  {
   "cell_type": "code",
   "execution_count": 6,
   "metadata": {},
   "outputs": [
    {
     "name": "stdout",
     "output_type": "stream",
     "text": [
      "Epoch 1/3, Train Loss: 0.0807, Train Accuracy: 89.4%, Validation Loss: 0.2306, Validation Accuracy: 49.0%\n",
      "Epoch 2/3, Train Loss: 0.0364, Train Accuracy: 95.3%, Validation Loss: 0.1139, Validation Accuracy: 87.0%\n",
      "Epoch 3/3, Train Loss: 0.0294, Train Accuracy: 96.1%, Validation Loss: 0.0678, Validation Accuracy: 89.5%\n",
      "Total training duration: 3.2 minutes\n",
      "Test Accuracy of the Binary Classification Model: 89.5%\n",
      "Base precision: 89.5%\n"
     ]
    }
   ],
   "source": [
    "(\n",
    "    base_train_loader,\n",
    "    base_test_loader,\n",
    "    base_validation_loader,\n",
    ") = get_model_data(\n",
    "    training_ratio=training_ratio,\n",
    "    testing_ratio=testing_ratio,\n",
    "    validation_ratio=validation_ratio,\n",
    "    seed=seed,\n",
    ")\n",
    "\n",
    "base_precision = evaluate_model(\n",
    "    device, base_train_loader, base_test_loader, base_validation_loader\n",
    ")\n",
    "\n",
    "print(f\"Base precision: {base_precision*100:.1f}%\")\n",
    "\n",
    "if base_precision < parameters[\"TRAINING\"][\"precision_threshold\"]:\n",
    "    raise ValueError(\"The base model did not meet the precision threshold.\")"
   ]
  },
  {
   "cell_type": "markdown",
   "metadata": {},
   "source": [
    "## Class 1 Models: Images with only one pre-process"
   ]
  },
  {
   "cell_type": "markdown",
   "metadata": {},
   "source": [
    "### Class 1.1 Models: Normalizing the image"
   ]
  },
  {
   "cell_type": "code",
   "execution_count": 7,
   "metadata": {},
   "outputs": [
    {
     "name": "stdout",
     "output_type": "stream",
     "text": [
      "Epoch 1/3, Train Loss: 0.0747, Train Accuracy: 90.6%, Validation Loss: 0.1327, Validation Accuracy: 88.0%\n",
      "Epoch 2/3, Train Loss: 0.0309, Train Accuracy: 96.1%, Validation Loss: 0.0286, Validation Accuracy: 97.0%\n",
      "Epoch 3/3, Train Loss: 0.0264, Train Accuracy: 96.6%, Validation Loss: 0.0242, Validation Accuracy: 97.0%\n",
      "Total training duration: 3.4 minutes\n",
      "Test Accuracy of the Binary Classification Model: 95.5%\n",
      "\n",
      "\n",
      "Normalized precision: 95.5%\n",
      "That is an upgrade of 6.0%.\n"
     ]
    }
   ],
   "source": [
    "(\n",
    "    normalize_train_loader,\n",
    "    normalize_test_loader,\n",
    "    normalize_validation_loader,\n",
    ") = get_model_data(\n",
    "    [NormalizeTransform(**parameters[\"PREPROCESS\"][\"normalize\"])],\n",
    "    training_ratio=training_ratio,\n",
    "    testing_ratio=testing_ratio,\n",
    "    validation_ratio=validation_ratio,\n",
    "    seed=seed,\n",
    ")\n",
    "\n",
    "normalize_precision = evaluate_model(\n",
    "    device, normalize_train_loader, normalize_test_loader, normalize_validation_loader\n",
    ")\n",
    "\n",
    "normalize_precision_diff = normalize_precision - base_precision\n",
    "\n",
    "print(f\"\\n\\nNormalized precision: {normalize_precision*100:.1f}%\")\n",
    "print(\n",
    "    f\"That is an {'upgrade' if normalize_precision_diff > 0 else 'downgrade'} of {normalize_precision_diff*100:.1f}%.\"\n",
    ")"
   ]
  },
  {
   "cell_type": "code",
   "execution_count": 8,
   "metadata": {},
   "outputs": [
    {
     "data": {
      "image/png": "[encoded data removed]",
      "text/plain": [
       "<Figure size 800x600 with 2 Axes>"
      ]
     },
     "metadata": {},
     "output_type": "display_data"
    }
   ],
   "source": [
    "df = pd.read_json(\"./params/normalize.json\")\n",
    "\n",
    "df[\"precision\"] = df[\"precision\"] - base_precision\n",
    "\n",
    "pivot_table = df.pivot(index=\"std\", columns=\"mean\", values=\"precision\")\n",
    "\n",
    "pivot_table = pivot_table.sort_index().sort_index(axis=1).iloc[::-1]\n",
    "\n",
    "pivot_table_pct = pivot_table * 100\n",
    "\n",
    "vabs = max(abs(pivot_table_pct.min().min()), abs(pivot_table_pct.max().max()))\n",
    "\n",
    "plt.figure(figsize=(8, 6))\n",
    "\n",
    "sns.heatmap(\n",
    "    pivot_table_pct,\n",
    "    annot=True,\n",
    "    fmt=\".1f\",\n",
    "    cmap=\"RdYlGn\",\n",
    "    cbar_kws={\"label\": alpha, \"format\": \"%.0f%%\"},\n",
    "    vmin=-vabs,\n",
    "    vmax=vabs,\n",
    ")\n",
    "\n",
    "plt.xticks(rotation=0)\n",
    "plt.yticks(rotation=0)\n",
    "plt.gca().set_xticklabels([f\"{x:.1f}\" for x in pivot_table_pct.columns])\n",
    "plt.gca().set_yticklabels([f\"{y:.1f}\" for y in pivot_table_pct.index])\n",
    "\n",
    "plt.title(\"Correlation between Normalization Parameters and Model Precision\")\n",
    "plt.xlabel(\"Mean\")\n",
    "plt.ylabel(\"Standard Deviation\")\n",
    "\n",
    "plt.show()"
   ]
  },
  {
   "cell_type": "markdown",
   "metadata": {},
   "source": [
    "### Class 1.2 Models: Denoising the image"
   ]
  },
  {
   "cell_type": "code",
   "execution_count": 9,
   "metadata": {},
   "outputs": [
    {
     "name": "stdout",
     "output_type": "stream",
     "text": [
      "Epoch 1/3, Train Loss: 0.0865, Train Accuracy: 88.2%, Validation Loss: 0.2458, Validation Accuracy: 48.5%\n",
      "Epoch 2/3, Train Loss: 0.0392, Train Accuracy: 95.1%, Validation Loss: 0.2288, Validation Accuracy: 56.5%\n",
      "Epoch 3/3, Train Loss: 0.0387, Train Accuracy: 94.8%, Validation Loss: 0.0307, Validation Accuracy: 96.5%\n",
      "Total training duration: 4.7 minutes\n",
      "Test Accuracy of the Binary Classification Model: 94.0%\n",
      "\n",
      "\n",
      "Denoised precision: 94.0%\n",
      "That is an upgrade of 4.5%.\n"
     ]
    }
   ],
   "source": [
    "(\n",
    "    denoise_train_loader,\n",
    "    denoise_test_loader,\n",
    "    denoise_validation_loader,\n",
    ") = get_model_data(\n",
    "    [DenoiseTransform(**parameters[\"PREPROCESS\"][\"denoise\"])],\n",
    "    training_ratio=training_ratio,\n",
    "    testing_ratio=testing_ratio,\n",
    "    validation_ratio=validation_ratio,\n",
    "    seed=seed,\n",
    ")\n",
    "\n",
    "denoise_precision = evaluate_model(\n",
    "    device, denoise_train_loader, denoise_test_loader, denoise_validation_loader\n",
    ")\n",
    "\n",
    "denoise_precision_diff = denoise_precision - base_precision\n",
    "\n",
    "print(f\"\\n\\nDenoised precision: {denoise_precision*100:.1f}%\")\n",
    "print(\n",
    "    f\"That is an {'upgrade' if denoise_precision_diff > 0 else 'downgrade'} of {denoise_precision_diff*100:.1f}%.\"\n",
    ")"
   ]
  },
  {
   "cell_type": "code",
   "execution_count": 10,
   "metadata": {},
   "outputs": [
    {
     "data": {
      "image/png": "[encoded data removed]",
      "text/plain": [
       "<Figure size 800x600 with 2 Axes>"
      ]
     },
     "metadata": {},
     "output_type": "display_data"
    }
   ],
   "source": [
    "df = pd.read_json(\"./params/denoise.json\")\n",
    "\n",
    "df[\"precision\"] = df[\"precision\"] - base_precision\n",
    "\n",
    "pivot_table = df.pivot(\n",
    "    index=\"search_window_size\", columns=\"template_window_size\", values=\"precision\"\n",
    ")\n",
    "\n",
    "pivot_table = pivot_table.sort_index().sort_index(axis=1).iloc[::-1]\n",
    "\n",
    "pivot_table_pct = pivot_table * 100\n",
    "\n",
    "vabs = max(abs(pivot_table_pct.min().min()), abs(pivot_table_pct.max().max()))\n",
    "\n",
    "plt.figure(figsize=(8, 6))\n",
    "\n",
    "sns.heatmap(\n",
    "    pivot_table_pct,\n",
    "    annot=True,\n",
    "    fmt=\".1f\",\n",
    "    cmap=\"RdYlGn\",\n",
    "    cbar_kws={\"label\": alpha, \"format\": \"%.0f%%\"},\n",
    "    vmin=-vabs,\n",
    "    vmax=vabs,\n",
    ")\n",
    "\n",
    "plt.xticks(rotation=0)\n",
    "plt.yticks(rotation=0)\n",
    "plt.gca().set_xticklabels([f\"{x:.0f}\" for x in pivot_table_pct.columns])\n",
    "plt.gca().set_yticklabels([f\"{y:.0f}\" for y in pivot_table_pct.index])\n",
    "\n",
    "plt.title(\"Correlation between Denoising Parameters and Model Precision\")\n",
    "plt.xlabel(\"Template Window Size\")\n",
    "plt.ylabel(\"Search Window Size\")\n",
    "\n",
    "plt.show()"
   ]
  },
  {
   "cell_type": "markdown",
   "metadata": {},
   "source": [
    "### Class 1.3 Models: Equalizing the image"
   ]
  },
  {
   "cell_type": "code",
   "execution_count": 11,
   "metadata": {},
   "outputs": [
    {
     "name": "stdout",
     "output_type": "stream",
     "text": [
      "Epoch 1/3, Train Loss: 0.0802, Train Accuracy: 89.2%, Validation Loss: 0.3328, Validation Accuracy: 48.5%\n",
      "Epoch 2/3, Train Loss: 0.0243, Train Accuracy: 96.9%, Validation Loss: 0.2212, Validation Accuracy: 64.0%\n",
      "Epoch 3/3, Train Loss: 0.0304, Train Accuracy: 96.0%, Validation Loss: 0.0461, Validation Accuracy: 95.5%\n",
      "Total training duration: 3.3 minutes\n",
      "Test Accuracy of the Binary Classification Model: 94.5%\n",
      "\n",
      "\n",
      "Equalized precision: 94.5%\n",
      "That is an upgrade of 5.0%.\n"
     ]
    }
   ],
   "source": [
    "(\n",
    "    equalized_train_loader,\n",
    "    equalized_test_loader,\n",
    "    equalized_validation_loader,\n",
    ") = get_model_data(\n",
    "    [EqualizationTransform()],\n",
    "    training_ratio=training_ratio,\n",
    "    testing_ratio=testing_ratio,\n",
    "    validation_ratio=validation_ratio,\n",
    "    seed=seed,\n",
    ")\n",
    "\n",
    "equalized_precision = evaluate_model(\n",
    "    device, equalized_train_loader, equalized_test_loader, equalized_validation_loader\n",
    ")\n",
    "\n",
    "equalized_precision_diff = equalized_precision - base_precision\n",
    "\n",
    "print(f\"\\n\\nEqualized precision: {equalized_precision*100:.1f}%\")\n",
    "print(\n",
    "    f\"That is an {'upgrade' if equalized_precision_diff > 0 else 'downgrade'} of {equalized_precision_diff*100:.1f}%.\"\n",
    ")"
   ]
  },
  {
   "cell_type": "markdown",
   "metadata": {},
   "source": [
    "### Class 1.4 Models: Changing the colorspace"
   ]
  },
  {
   "cell_type": "code",
   "execution_count": 12,
   "metadata": {},
   "outputs": [
    {
     "name": "stdout",
     "output_type": "stream",
     "text": [
      "Epoch 1/3, Train Loss: 0.0924, Train Accuracy: 86.3%, Validation Loss: 0.3350, Validation Accuracy: 48.5%\n",
      "Epoch 2/3, Train Loss: 0.0415, Train Accuracy: 94.6%, Validation Loss: 0.2256, Validation Accuracy: 60.5%\n",
      "Epoch 3/3, Train Loss: 0.0356, Train Accuracy: 95.6%, Validation Loss: 0.0564, Validation Accuracy: 92.5%\n",
      "Total training duration: 3.2 minutes\n",
      "Test Accuracy of the Binary Classification Model: 91.5%\n",
      "\n",
      "\n",
      "Colorspaced precision: 91.5%\n",
      "That is an upgrade of 2.0%.\n"
     ]
    }
   ],
   "source": [
    "(\n",
    "    colorspace_train_loader,\n",
    "    colorspace_test_loader,\n",
    "    colorspace_validation_loader,\n",
    ") = get_model_data(\n",
    "    [ColorSpaceTransform(**parameters[\"PREPROCESS\"][\"colorspace\"])],\n",
    "    training_ratio=training_ratio,\n",
    "    testing_ratio=testing_ratio,\n",
    "    validation_ratio=validation_ratio,\n",
    "    seed=seed,\n",
    ")\n",
    "\n",
    "colorspace_precision = evaluate_model(\n",
    "    device, colorspace_train_loader, colorspace_test_loader, colorspace_validation_loader\n",
    ")\n",
    "\n",
    "colorspace_precision_diff = colorspace_precision - base_precision\n",
    "\n",
    "print(f\"\\n\\nColorspaced precision: {colorspace_precision*100:.1f}%\")\n",
    "print(\n",
    "    f\"That is an {'upgrade' if colorspace_precision_diff > 0 else 'downgrade'} of {colorspace_precision_diff*100:.1f}%.\"\n",
    ")"
   ]
  },
  {
   "cell_type": "code",
   "execution_count": 13,
   "metadata": {},
   "outputs": [
    {
     "data": {
      "image/png": "[encoded data removed]",
      "text/plain": [
       "<Figure size 800x600 with 2 Axes>"
      ]
     },
     "metadata": {},
     "output_type": "display_data"
    }
   ],
   "source": [
    "df = pd.read_json(\"./params/colorspace.json\")\n",
    "\n",
    "df[\"precision\"] = df[\"precision\"] - base_precision\n",
    "\n",
    "pivot_table = df.set_index(\"target_space\")\n",
    "\n",
    "pivot_table = pivot_table.sort_index().sort_index(axis=1).iloc[::-1]\n",
    "\n",
    "pivot_table_pct = pivot_table * 100\n",
    "\n",
    "vabs = max(abs(pivot_table_pct.min().min()), abs(pivot_table_pct.max().max()))\n",
    "\n",
    "plt.figure(figsize=(8, 6))\n",
    "\n",
    "sns.heatmap(\n",
    "    pivot_table_pct,\n",
    "    annot=True,\n",
    "    fmt=\".1f\",\n",
    "    cmap=\"RdYlGn\",\n",
    "    cbar_kws={\"label\": alpha, \"format\": \"%.0f%%\"},\n",
    "    vmin=-vabs,\n",
    "    vmax=vabs,\n",
    ")\n",
    "\n",
    "plt.xticks(rotation=0)\n",
    "plt.yticks(rotation=0)\n",
    "\n",
    "plt.title(\"Correlation between Color Space Parameters and Model Precision\")\n",
    "plt.ylabel(\"Target Color Space\")\n",
    "\n",
    "plt.show()"
   ]
  },
  {
   "cell_type": "markdown",
   "metadata": {},
   "source": [
    "## Class 2 Models: Images with two pre-processes"
   ]
  },
  {
   "cell_type": "code",
   "execution_count": 14,
   "metadata": {},
   "outputs": [
    {
     "name": "stdout",
     "output_type": "stream",
     "text": [
      "\n",
      "\n",
      "Class 2.0 ColorSpaceTransform, DenoiseTransform precision: 91.0%\n",
      "That is an upgrade of 1.5%.\n",
      "\n",
      "\n",
      "Class 2.1 ColorSpaceTransform, EqualizationTransform precision: 85.0%\n",
      "That is an downgrade of -4.5%.\n",
      "\n",
      "\n",
      "Class 2.2 ColorSpaceTransform, NormalizeTransform precision: 92.5%\n",
      "That is an upgrade of 3.0%.\n",
      "\n",
      "\n",
      "Class 2.3 DenoiseTransform, ColorSpaceTransform precision: 93.0%\n",
      "That is an upgrade of 3.5%.\n",
      "\n",
      "\n",
      "Class 2.4 DenoiseTransform, EqualizationTransform precision: 96.0%\n",
      "That is an upgrade of 6.5%.\n",
      "\n",
      "\n",
      "Class 2.5 DenoiseTransform, NormalizeTransform precision: 95.0%\n",
      "That is an upgrade of 5.5%.\n",
      "\n",
      "\n",
      "Class 2.6 EqualizationTransform, ColorSpaceTransform precision: 90.0%\n",
      "That is an upgrade of 0.5%.\n",
      "\n",
      "\n",
      "Class 2.7 EqualizationTransform, DenoiseTransform precision: 91.0%\n",
      "That is an upgrade of 1.5%.\n",
      "\n",
      "\n",
      "Class 2.8 EqualizationTransform, NormalizeTransform precision: 95.0%\n",
      "That is an upgrade of 5.5%.\n",
      "\n",
      "\n",
      "Class 2.9 NormalizeTransform, ColorSpaceTransform precision: 81.0%\n",
      "That is an downgrade of -8.5%.\n",
      "\n",
      "\n",
      "Class 2.10 NormalizeTransform, DenoiseTransform precision: 83.5%\n",
      "That is an downgrade of -6.0%.\n",
      "\n",
      "\n",
      "Class 2.11 NormalizeTransform, EqualizationTransform precision: 80.5%\n",
      "That is an downgrade of -9.0%.\n"
     ]
    }
   ],
   "source": [
    "class2_precisions = {}\n",
    "\n",
    "for idx, combination in enumerate(preprocess_combinations[2]):\n",
    "    (\n",
    "        class2_train_loader,\n",
    "        class2_test_loader,\n",
    "        class2_validation_loader,\n",
    "    ) = get_model_data(\n",
    "        combination,\n",
    "        training_ratio=training_ratio,\n",
    "        testing_ratio=testing_ratio,\n",
    "        validation_ratio=validation_ratio,\n",
    "        seed=seed,\n",
    "    )\n",
    "\n",
    "    curr_precision = evaluate_model(\n",
    "        device, class2_train_loader, class2_test_loader, class2_validation_loader, verbose=False\n",
    "    )\n",
    "    \n",
    "    uuid = \", \".join([str(t.__class__.__name__) for t in combination])\n",
    "\n",
    "    class2_precisions[uuid] = curr_precision\n",
    "\n",
    "    curr_precision_diff = curr_precision - base_precision\n",
    "\n",
    "    print(f\"\\n\\nClass 2.{idx+1} {uuid} precision: {curr_precision*100:.1f}%\")\n",
    "    print(\n",
    "        f\"That is an {'upgrade' if curr_precision_diff > 0 else 'downgrade'} of {curr_precision_diff*100:.1f}%.\"\n",
    "    )"
   ]
  },
  {
   "cell_type": "code",
   "execution_count": 15,
   "metadata": {},
   "outputs": [
    {
     "data": {
      "text/html": [
       "<div>\n",
       "<style scoped>\n",
       "    .dataframe tbody tr th:only-of-type {\n",
       "        vertical-align: middle;\n",
       "    }\n",
       "\n",
       "    .dataframe tbody tr th {\n",
       "        vertical-align: top;\n",
       "    }\n",
       "\n",
       "    .dataframe thead th {\n",
       "        text-align: right;\n",
       "    }\n",
       "</style>\n",
       "<table border=\"1\" class=\"dataframe\">\n",
       "  <thead>\n",
       "    <tr style=\"text-align: right;\">\n",
       "      <th></th>\n",
       "      <th>transform_1</th>\n",
       "      <th>transform_2</th>\n",
       "      <th>precision</th>\n",
       "      <th>α</th>\n",
       "    </tr>\n",
       "  </thead>\n",
       "  <tbody>\n",
       "    <tr>\n",
       "      <th>0</th>\n",
       "      <td>D</td>\n",
       "      <td>E</td>\n",
       "      <td>0.960</td>\n",
       "      <td>0.065</td>\n",
       "    </tr>\n",
       "    <tr>\n",
       "      <th>1</th>\n",
       "      <td>D</td>\n",
       "      <td>N</td>\n",
       "      <td>0.950</td>\n",
       "      <td>0.055</td>\n",
       "    </tr>\n",
       "    <tr>\n",
       "      <th>2</th>\n",
       "      <td>E</td>\n",
       "      <td>N</td>\n",
       "      <td>0.950</td>\n",
       "      <td>0.055</td>\n",
       "    </tr>\n",
       "    <tr>\n",
       "      <th>3</th>\n",
       "      <td>D</td>\n",
       "      <td>CS</td>\n",
       "      <td>0.930</td>\n",
       "      <td>0.035</td>\n",
       "    </tr>\n",
       "    <tr>\n",
       "      <th>4</th>\n",
       "      <td>CS</td>\n",
       "      <td>N</td>\n",
       "      <td>0.925</td>\n",
       "      <td>0.030</td>\n",
       "    </tr>\n",
       "    <tr>\n",
       "      <th>5</th>\n",
       "      <td>CS</td>\n",
       "      <td>D</td>\n",
       "      <td>0.910</td>\n",
       "      <td>0.015</td>\n",
       "    </tr>\n",
       "    <tr>\n",
       "      <th>6</th>\n",
       "      <td>E</td>\n",
       "      <td>D</td>\n",
       "      <td>0.910</td>\n",
       "      <td>0.015</td>\n",
       "    </tr>\n",
       "    <tr>\n",
       "      <th>7</th>\n",
       "      <td>E</td>\n",
       "      <td>CS</td>\n",
       "      <td>0.900</td>\n",
       "      <td>0.005</td>\n",
       "    </tr>\n",
       "    <tr>\n",
       "      <th>8</th>\n",
       "      <td>CS</td>\n",
       "      <td>E</td>\n",
       "      <td>0.850</td>\n",
       "      <td>-0.045</td>\n",
       "    </tr>\n",
       "    <tr>\n",
       "      <th>9</th>\n",
       "      <td>N</td>\n",
       "      <td>D</td>\n",
       "      <td>0.835</td>\n",
       "      <td>-0.060</td>\n",
       "    </tr>\n",
       "    <tr>\n",
       "      <th>10</th>\n",
       "      <td>N</td>\n",
       "      <td>CS</td>\n",
       "      <td>0.810</td>\n",
       "      <td>-0.085</td>\n",
       "    </tr>\n",
       "    <tr>\n",
       "      <th>11</th>\n",
       "      <td>N</td>\n",
       "      <td>E</td>\n",
       "      <td>0.805</td>\n",
       "      <td>-0.090</td>\n",
       "    </tr>\n",
       "  </tbody>\n",
       "</table>\n",
       "</div>"
      ],
      "text/plain": [
       "   transform_1 transform_2  precision      α\n",
       "0            D           E      0.960  0.065\n",
       "1            D           N      0.950  0.055\n",
       "2            E           N      0.950  0.055\n",
       "3            D          CS      0.930  0.035\n",
       "4           CS           N      0.925  0.030\n",
       "5           CS           D      0.910  0.015\n",
       "6            E           D      0.910  0.015\n",
       "7            E          CS      0.900  0.005\n",
       "8           CS           E      0.850 -0.045\n",
       "9            N           D      0.835 -0.060\n",
       "10           N          CS      0.810 -0.085\n",
       "11           N           E      0.805 -0.090"
      ]
     },
     "execution_count": 15,
     "metadata": {},
     "output_type": "execute_result"
    }
   ],
   "source": [
    "class2_df_data = [\n",
    "    {\n",
    "        \"transform_1\": k.split(\", \")[0],\n",
    "        \"transform_2\": k.split(\", \")[1],\n",
    "        \"precision\": v,\n",
    "        alpha: v - base_precision,\n",
    "    }\n",
    "    for k, v in class2_precisions.items()\n",
    "]\n",
    "class2_df = pd.DataFrame(class2_df_data).sort_values(alpha, ascending=False).reset_index(drop=True)\n",
    "class2_df.transform_1 = class2_df.transform_1.apply(lambda x: preprocess_labels[x])\n",
    "class2_df.transform_2 = class2_df.transform_2.apply(lambda x: preprocess_labels[x])\n",
    "class2_df"
   ]
  },
  {
   "cell_type": "code",
   "execution_count": 16,
   "metadata": {},
   "outputs": [
    {
     "data": {
      "image/png": "[encoded data removed]",
      "text/plain": [
       "<Figure size 800x600 with 2 Axes>"
      ]
     },
     "metadata": {},
     "output_type": "display_data"
    }
   ],
   "source": [
    "grouped = class2_df.groupby(['transform_1', 'transform_2']).mean()\n",
    "grouped[alpha] *= 100\n",
    "\n",
    "vabs = max(abs(grouped.min().min()), abs(grouped.max().max()))\n",
    "\n",
    "pivot = grouped[alpha].unstack()\n",
    "\n",
    "plt.figure(figsize=(8, 6))\n",
    "sns.heatmap(\n",
    "    pivot,\n",
    "    annot=True,\n",
    "    fmt=\".1f\",\n",
    "    cmap=\"RdYlGn\",\n",
    "    cbar_kws={\"label\": alpha, \"format\": \"%.0f%%\"},\n",
    "    vmax=vabs,\n",
    "    vmin=-vabs\n",
    ")\n",
    "plt.title('Model Precision by Transform Combinations')\n",
    "plt.ylabel('Transform 1')\n",
    "plt.xlabel('Transform 2')\n",
    "plt.xticks(rotation=45)\n",
    "plt.yticks(rotation=0)\n",
    "plt.show()"
   ]
  },
  {
   "cell_type": "markdown",
   "metadata": {},
   "source": [
    "## Class 3 Models: Images with three pre-processes"
   ]
  },
  {
   "cell_type": "code",
   "execution_count": 17,
   "metadata": {},
   "outputs": [
    {
     "name": "stdout",
     "output_type": "stream",
     "text": [
      "\n",
      "\n",
      "Class 3.1 ColorSpaceTransform→DenoiseTransform→EqualizationTransform precision: 83.5%\n",
      "That is an downgrade of -6.0%.\n",
      "\n",
      "\n",
      "Class 3.2 ColorSpaceTransform→DenoiseTransform→NormalizeTransform precision: 92.5%\n",
      "That is an upgrade of 3.0%.\n",
      "\n",
      "\n",
      "Class 3.3 ColorSpaceTransform→EqualizationTransform→DenoiseTransform precision: 86.5%\n",
      "That is an downgrade of -3.0%.\n",
      "\n",
      "\n",
      "Class 3.4 ColorSpaceTransform→EqualizationTransform→NormalizeTransform precision: 88.5%\n",
      "That is an downgrade of -1.0%.\n",
      "\n",
      "\n",
      "Class 3.5 ColorSpaceTransform→NormalizeTransform→DenoiseTransform precision: 78.0%\n",
      "That is an downgrade of -11.5%.\n",
      "\n",
      "\n",
      "Class 3.6 ColorSpaceTransform→NormalizeTransform→EqualizationTransform precision: 86.0%\n",
      "That is an downgrade of -3.5%.\n",
      "\n",
      "\n",
      "Class 3.7 DenoiseTransform→ColorSpaceTransform→EqualizationTransform precision: 88.5%\n",
      "That is an downgrade of -1.0%.\n",
      "\n",
      "\n",
      "Class 3.8 DenoiseTransform→ColorSpaceTransform→NormalizeTransform precision: 91.5%\n",
      "That is an upgrade of 2.0%.\n",
      "\n",
      "\n",
      "Class 3.9 DenoiseTransform→EqualizationTransform→ColorSpaceTransform precision: 88.0%\n",
      "That is an downgrade of -1.5%.\n",
      "\n",
      "\n",
      "Class 3.10 DenoiseTransform→EqualizationTransform→NormalizeTransform precision: 96.0%\n",
      "That is an upgrade of 6.5%.\n",
      "\n",
      "\n",
      "Class 3.11 DenoiseTransform→NormalizeTransform→ColorSpaceTransform precision: 66.5%\n",
      "That is an downgrade of -23.0%.\n",
      "\n",
      "\n",
      "Class 3.12 DenoiseTransform→NormalizeTransform→EqualizationTransform precision: 81.0%\n",
      "That is an downgrade of -8.5%.\n",
      "\n",
      "\n",
      "Class 3.13 EqualizationTransform→ColorSpaceTransform→DenoiseTransform precision: 90.5%\n",
      "That is an upgrade of 1.0%.\n",
      "\n",
      "\n",
      "Class 3.14 EqualizationTransform→ColorSpaceTransform→NormalizeTransform precision: 92.0%\n",
      "That is an upgrade of 2.5%.\n",
      "\n",
      "\n",
      "Class 3.15 EqualizationTransform→DenoiseTransform→ColorSpaceTransform precision: 91.5%\n",
      "That is an upgrade of 2.0%.\n",
      "\n",
      "\n",
      "Class 3.16 EqualizationTransform→DenoiseTransform→NormalizeTransform precision: 95.5%\n",
      "That is an upgrade of 6.0%.\n",
      "\n",
      "\n",
      "Class 3.17 EqualizationTransform→NormalizeTransform→ColorSpaceTransform precision: 87.0%\n",
      "That is an downgrade of -2.5%.\n",
      "\n",
      "\n",
      "Class 3.18 EqualizationTransform→NormalizeTransform→DenoiseTransform precision: 95.5%\n",
      "That is an upgrade of 6.0%.\n",
      "\n",
      "\n",
      "Class 3.19 NormalizeTransform→ColorSpaceTransform→DenoiseTransform precision: 78.0%\n",
      "That is an downgrade of -11.5%.\n",
      "\n",
      "\n",
      "Class 3.20 NormalizeTransform→ColorSpaceTransform→EqualizationTransform precision: 80.5%\n",
      "That is an downgrade of -9.0%.\n",
      "\n",
      "\n",
      "Class 3.21 NormalizeTransform→DenoiseTransform→ColorSpaceTransform precision: 81.5%\n",
      "That is an downgrade of -8.0%.\n",
      "\n",
      "\n",
      "Class 3.22 NormalizeTransform→DenoiseTransform→EqualizationTransform precision: 81.0%\n",
      "That is an downgrade of -8.5%.\n",
      "\n",
      "\n",
      "Class 3.23 NormalizeTransform→EqualizationTransform→ColorSpaceTransform precision: 66.0%\n",
      "That is an downgrade of -23.5%.\n",
      "\n",
      "\n",
      "Class 3.24 NormalizeTransform→EqualizationTransform→DenoiseTransform precision: 79.5%\n",
      "That is an downgrade of -10.0%.\n"
     ]
    }
   ],
   "source": [
    "class3_precisions = {}\n",
    "\n",
    "for idx, combination in enumerate(preprocess_combinations[3]):\n",
    "    (\n",
    "        class3_train_loader,\n",
    "        class3_test_loader,\n",
    "        class3_validation_loader,\n",
    "    ) = get_model_data(\n",
    "        combination,\n",
    "        training_ratio=training_ratio,\n",
    "        testing_ratio=testing_ratio,\n",
    "        validation_ratio=validation_ratio,\n",
    "        seed=seed,\n",
    "    )\n",
    "\n",
    "    curr_precision = evaluate_model(\n",
    "        device, class3_train_loader, class3_test_loader, class3_validation_loader, verbose=False\n",
    "    )\n",
    "    \n",
    "    uuid = \"→\".join([str(t.__class__.__name__) for t in combination])\n",
    "\n",
    "    class3_precisions[uuid] = curr_precision\n",
    "\n",
    "    curr_precision_diff = curr_precision - base_precision\n",
    "\n",
    "    print(f\"\\n\\nClass 3.{idx+1} {uuid} precision: {curr_precision*100:.1f}%\")\n",
    "    print(\n",
    "        f\"That is an {'upgrade' if curr_precision_diff > 0 else 'downgrade'} of {curr_precision_diff*100:.1f}%.\"\n",
    "    )"
   ]
  },
  {
   "cell_type": "markdown",
   "metadata": {},
   "source": [
    "## Class 4 Models: Images with four pre-processes"
   ]
  },
  {
   "cell_type": "code",
   "execution_count": 18,
   "metadata": {},
   "outputs": [
    {
     "name": "stdout",
     "output_type": "stream",
     "text": [
      "\n",
      "\n",
      "Class 4.1 ColorSpaceTransform➔DenoiseTransform➔EqualizationTransform➔NormalizeTransform precision: 89.5%\n",
      "That is an downgrade of 0.0%.\n",
      "\n",
      "\n",
      "Class 4.2 ColorSpaceTransform➔DenoiseTransform➔NormalizeTransform➔EqualizationTransform precision: 56.5%\n",
      "That is an downgrade of -33.0%.\n",
      "\n",
      "\n",
      "Class 4.3 ColorSpaceTransform➔EqualizationTransform➔DenoiseTransform➔NormalizeTransform precision: 94.0%\n",
      "That is an upgrade of 4.5%.\n",
      "\n",
      "\n",
      "Class 4.4 ColorSpaceTransform➔EqualizationTransform➔NormalizeTransform➔DenoiseTransform precision: 87.5%\n",
      "That is an downgrade of -2.0%.\n",
      "\n",
      "\n",
      "Class 4.5 ColorSpaceTransform➔NormalizeTransform➔DenoiseTransform➔EqualizationTransform precision: 77.5%\n",
      "That is an downgrade of -12.0%.\n",
      "\n",
      "\n",
      "Class 4.6 ColorSpaceTransform➔NormalizeTransform➔EqualizationTransform➔DenoiseTransform precision: 77.5%\n",
      "That is an downgrade of -12.0%.\n",
      "\n",
      "\n",
      "Class 4.7 DenoiseTransform➔ColorSpaceTransform➔EqualizationTransform➔NormalizeTransform precision: 91.5%\n",
      "That is an upgrade of 2.0%.\n",
      "\n",
      "\n",
      "Class 4.8 DenoiseTransform➔ColorSpaceTransform➔NormalizeTransform➔EqualizationTransform precision: 81.5%\n",
      "That is an downgrade of -8.0%.\n",
      "\n",
      "\n",
      "Class 4.9 DenoiseTransform➔EqualizationTransform➔ColorSpaceTransform➔NormalizeTransform precision: 93.5%\n",
      "That is an upgrade of 4.0%.\n",
      "\n",
      "\n",
      "Class 4.10 DenoiseTransform➔EqualizationTransform➔NormalizeTransform➔ColorSpaceTransform precision: 80.0%\n",
      "That is an downgrade of -9.5%.\n",
      "\n",
      "\n",
      "Class 4.11 DenoiseTransform➔NormalizeTransform➔ColorSpaceTransform➔EqualizationTransform precision: 66.5%\n",
      "That is an downgrade of -23.0%.\n",
      "\n",
      "\n",
      "Class 4.12 DenoiseTransform➔NormalizeTransform➔EqualizationTransform➔ColorSpaceTransform precision: 62.5%\n",
      "That is an downgrade of -27.0%.\n",
      "\n",
      "\n",
      "Class 4.13 EqualizationTransform➔ColorSpaceTransform➔DenoiseTransform➔NormalizeTransform precision: 93.0%\n",
      "That is an upgrade of 3.5%.\n",
      "\n",
      "\n",
      "Class 4.14 EqualizationTransform➔ColorSpaceTransform➔NormalizeTransform➔DenoiseTransform precision: 68.0%\n",
      "That is an downgrade of -21.5%.\n",
      "\n",
      "\n",
      "Class 4.15 EqualizationTransform➔DenoiseTransform➔ColorSpaceTransform➔NormalizeTransform precision: 94.0%\n",
      "That is an upgrade of 4.5%.\n",
      "\n",
      "\n",
      "Class 4.16 EqualizationTransform➔DenoiseTransform➔NormalizeTransform➔ColorSpaceTransform precision: 85.0%\n",
      "That is an downgrade of -4.5%.\n",
      "\n",
      "\n",
      "Class 4.17 EqualizationTransform➔NormalizeTransform➔ColorSpaceTransform➔DenoiseTransform precision: 88.5%\n",
      "That is an downgrade of -1.0%.\n",
      "\n",
      "\n",
      "Class 4.18 EqualizationTransform➔NormalizeTransform➔DenoiseTransform➔ColorSpaceTransform precision: 88.5%\n",
      "That is an downgrade of -1.0%.\n",
      "\n",
      "\n",
      "Class 4.19 NormalizeTransform➔ColorSpaceTransform➔DenoiseTransform➔EqualizationTransform precision: 80.5%\n",
      "That is an downgrade of -9.0%.\n",
      "\n",
      "\n",
      "Class 4.20 NormalizeTransform➔ColorSpaceTransform➔EqualizationTransform➔DenoiseTransform precision: 84.0%\n",
      "That is an downgrade of -5.5%.\n",
      "\n",
      "\n",
      "Class 4.21 NormalizeTransform➔DenoiseTransform➔ColorSpaceTransform➔EqualizationTransform precision: 84.5%\n",
      "That is an downgrade of -5.0%.\n",
      "\n",
      "\n",
      "Class 4.22 NormalizeTransform➔DenoiseTransform➔EqualizationTransform➔ColorSpaceTransform precision: 77.0%\n",
      "That is an downgrade of -12.5%.\n",
      "\n",
      "\n",
      "Class 4.23 NormalizeTransform➔EqualizationTransform➔ColorSpaceTransform➔DenoiseTransform precision: 82.5%\n",
      "That is an downgrade of -7.0%.\n",
      "\n",
      "\n",
      "Class 4.24 NormalizeTransform➔EqualizationTransform➔DenoiseTransform➔ColorSpaceTransform precision: 70.5%\n",
      "That is an downgrade of -19.0%.\n"
     ]
    }
   ],
   "source": [
    "class4_precisions = {}\n",
    "\n",
    "for idx, combination in enumerate(preprocess_combinations[4]):\n",
    "    (\n",
    "        class4_train_loader,\n",
    "        class4_test_loader,\n",
    "        class4_validation_loader,\n",
    "    ) = get_model_data(\n",
    "        combination,\n",
    "        training_ratio=training_ratio,\n",
    "        testing_ratio=testing_ratio,\n",
    "        validation_ratio=validation_ratio,\n",
    "        seed=seed,\n",
    "    )\n",
    "\n",
    "    curr_precision = evaluate_model(\n",
    "        device, class4_train_loader, class4_test_loader, class4_validation_loader, verbose=False\n",
    "    )\n",
    "    \n",
    "    uuid = \"➔\".join([str(t.__class__.__name__) for t in combination])\n",
    "\n",
    "    class4_precisions[uuid] = curr_precision\n",
    "\n",
    "    curr_precision_diff = curr_precision - base_precision\n",
    "\n",
    "    print(f\"\\n\\nClass 4.{idx+1} {uuid} precision: {curr_precision*100:.1f}%\")\n",
    "    print(\n",
    "        f\"That is an {'upgrade' if curr_precision_diff > 0 else 'downgrade'} of {curr_precision_diff*100:.1f}%.\"\n",
    "    )"
   ]
  },
  {
   "cell_type": "code",
   "execution_count": 22,
   "metadata": {},
   "outputs": [],
   "source": [
    "import dill                            #pip install dill --user\n",
    "filename = 'globalsave.pkl'\n",
    "dill.dump_session(filename)"
   ]
  }
 ],
 "metadata": {
  "kernelspec": {
   "display_name": ".venv",
   "language": "python",
   "name": "python3"
  },
  "language_info": {
   "codemirror_mode": {
    "name": "ipython",
    "version": 3
   },
   "file_extension": ".py",
   "mimetype": "text/x-python",
   "name": "python",
   "nbconvert_exporter": "python",
   "pygments_lexer": "ipython3",
   "version": "3.11.6"
  }
 },
 "nbformat": 4,
 "nbformat_minor": 2
}
